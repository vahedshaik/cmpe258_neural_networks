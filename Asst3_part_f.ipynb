{
  "nbformat": 4,
  "nbformat_minor": 0,
  "metadata": {
    "colab": {
      "provenance": [],
      "include_colab_link": true
    },
    "kernelspec": {
      "name": "python3",
      "display_name": "Python 3"
    },
    "language_info": {
      "name": "python"
    }
  },
  "cells": [
    {
      "cell_type": "markdown",
      "metadata": {
        "id": "view-in-github",
        "colab_type": "text"
      },
      "source": [
        "<a href=\"https://colab.research.google.com/github/vahedshaik/cmpe258_neural_networks/blob/main/Asst3_part_f.ipynb\" target=\"_parent\"><img src=\"https://colab.research.google.com/assets/colab-badge.svg\" alt=\"Open In Colab\"/></a>"
      ]
    },
    {
      "cell_type": "code",
      "execution_count": null,
      "metadata": {
        "id": "wq9rOpSuF2VG"
      },
      "outputs": [],
      "source": [
        "#importing necessary libraries\n",
        "import jax\n",
        "from jax import numpy as jnp\n",
        "from jax import grad, value_and_grad\n",
        "from jax.example_libraries import stax, optimizers\n",
        "\n",
        "import numpy as np\n",
        "\n",
        "import matplotlib.pyplot as plt\n",
        "from mpl_toolkits.mplot3d import Axes3D"
      ]
    },
    {
      "cell_type": "code",
      "source": [
        "# Generate non-linear data and initialize weights and bias\n",
        "n = 1000\n",
        "dim = 3\n",
        "x = np.random.uniform(-1, 1, (n, dim))\n",
        "print('Input shape =', x.shape)\n",
        "weights = np.array([[2, -3.5, 7]]).T\n",
        "bias = np.array([8])\n",
        "print('Weights shape =', weights.shape)\n",
        "print('Bias shape =', bias.shape)\n",
        "y_true = np.einsum('ij, jk -> ik', (x**3),  weights) + np.einsum('ij, jk -> ik', (x**2),  weights) + np.einsum('ij, jk -> ik', x, weights) + bias\n",
        "print('Function output shape =', y_true.shape)"
      ],
      "metadata": {
        "colab": {
          "base_uri": "https://localhost:8080/"
        },
        "id": "uMbcszKpGlks",
        "outputId": "a9e70b93-dc99-4091-c9c7-01a661fa22de"
      },
      "execution_count": null,
      "outputs": [
        {
          "output_type": "stream",
          "name": "stdout",
          "text": [
            "Input shape = (1000, 3)\n",
            "Weights shape = (3, 1)\n",
            "Bias shape = (1,)\n",
            "Function output shape = (1000, 1)\n"
          ]
        }
      ]
    },
    {
      "cell_type": "code",
      "source": [
        "input_dim = dim\n",
        "output_dim = 1\n",
        "hidden_dim = 32\n",
        "\n",
        "learning_rate = 0.01\n",
        "num_epochs = 100\n",
        "\n",
        "seed = jax.random.PRNGKey(101)"
      ],
      "metadata": {
        "colab": {
          "base_uri": "https://localhost:8080/"
        },
        "id": "CpCkpzs6G2uv",
        "outputId": "f5ec16fc-a6ac-4f23-fe64-d8a86e2fe339"
      },
      "execution_count": null,
      "outputs": [
        {
          "output_type": "stream",
          "name": "stderr",
          "text": [
            "WARNING:jax._src.lib.xla_bridge:No GPU/TPU found, falling back to CPU. (Set TF_CPP_MIN_LOG_LEVEL=0 and rerun for more info.)\n"
          ]
        }
      ]
    },
    {
      "cell_type": "code",
      "source": [
        "#Using low-level API\n",
        "def initialize_weights(input_dim, output_dim, hidden_dim, seed):\n",
        "  weights = []\n",
        "  w = jax.random.uniform(key=seed, shape=(input_dim, hidden_dim), minval=-1.0, maxval=1.0, dtype=jnp.float32)\n",
        "  b = jax.random.uniform(key=seed, minval=-1.0, maxval=1.0, shape=(hidden_dim,), dtype=jnp.float32)\n",
        "  weights.append([w,b])\n",
        "  w = jax.random.uniform(key=seed, shape=(hidden_dim, hidden_dim), minval=-1.0, maxval=1.0, dtype=jnp.float32)\n",
        "  b = jax.random.uniform(key=seed, minval=-1.0, maxval=1.0, shape=(hidden_dim,), dtype=jnp.float32)\n",
        "  weights.append([w,b])\n",
        "  w = jax.random.uniform(key=seed, shape=(hidden_dim, output_dim), minval=-1.0, maxval=1.0, dtype=jnp.float32)\n",
        "  b = jax.random.uniform(key=seed, minval=-1.0, maxval=1.0, shape=(output_dim,), dtype=jnp.float32)\n",
        "  weights.append([w,b])\n",
        "\n",
        "  return weights"
      ],
      "metadata": {
        "id": "bpQoSa-GG9Yt"
      },
      "execution_count": null,
      "outputs": []
    },
    {
      "cell_type": "code",
      "source": [
        "# Non-linear activation function\n",
        "\n",
        "def relu(x):\n",
        "  return jnp.maximum(x, jnp.zeros_like(x))"
      ],
      "metadata": {
        "id": "V5Lw5_2aHGf3"
      },
      "execution_count": null,
      "outputs": []
    },
    {
      "cell_type": "code",
      "source": [
        "def linear(weights, input, activation=lambda x: x):\n",
        "  weights, bias = weights\n",
        "  out = jnp.dot(input, weights) + bias\n",
        "  return activation(out)"
      ],
      "metadata": {
        "id": "DWlkrYKKHJLv"
      },
      "execution_count": null,
      "outputs": []
    },
    {
      "cell_type": "code",
      "source": [
        "def forward(weights, input):\n",
        "  layer_out = input\n",
        "\n",
        "  for i in range(len(weights[:-1])):\n",
        "    layer_out = linear(weights[i], layer_out, relu)\n",
        "\n",
        "  preds = linear(weights[-1], layer_out)\n",
        "\n",
        "  return preds.squeeze()"
      ],
      "metadata": {
        "id": "WGG6_MsCHLq9"
      },
      "execution_count": null,
      "outputs": []
    },
    {
      "cell_type": "code",
      "source": [
        "def mean_squared_error(weights, input, actual):\n",
        "    preds = forward(weights, input)\n",
        "    return jnp.power(actual - preds, 2).mean()"
      ],
      "metadata": {
        "id": "GAriUgJ1HODl"
      },
      "execution_count": null,
      "outputs": []
    },
    {
      "cell_type": "code",
      "source": [
        "def backward(weights, input, actual):\n",
        "    loss = grad(mean_squared_error)\n",
        "    gradients = loss(weights, input, actual)\n",
        "    return gradients"
      ],
      "metadata": {
        "id": "QI3HRJs_HQ-v"
      },
      "execution_count": null,
      "outputs": []
    },
    {
      "cell_type": "code",
      "source": [
        "# Train network and Update Weights\n",
        "def train(weights, x, y_true, learning_rate, num_epochs):\n",
        "  loss_ =  []\n",
        "  for epoch in range(num_epochs):\n",
        "    loss_value = mean_squared_error(weights, x, y_true)\n",
        "    gradients = backward(weights, x, y_true)\n",
        "    for j in range(len(weights)):\n",
        "      weights[j][0] -= learning_rate * gradients[j][0] \n",
        "      weights[j][1] -= learning_rate * gradients[j][1]\n",
        "    print(f'Epoch {epoch}, loss {loss_value}')\n",
        "    loss_.append(loss_value)\n",
        "  return loss_"
      ],
      "metadata": {
        "id": "vr0uG0dRHVOr"
      },
      "execution_count": null,
      "outputs": []
    },
    {
      "cell_type": "code",
      "source": [
        "# Initialize weights and Train model\n",
        "weights = initialize_weights(input_dim, output_dim, hidden_dim, seed)\n",
        "loss_ = train(weights, x, y_true, learning_rate, num_epochs)"
      ],
      "metadata": {
        "colab": {
          "base_uri": "https://localhost:8080/"
        },
        "id": "eb-C5nUBHfFg",
        "outputId": "c5c5c218-b669-49c5-f243-e5c20c43ead7"
      },
      "execution_count": null,
      "outputs": [
        {
          "output_type": "stream",
          "name": "stdout",
          "text": [
            "Epoch 0, loss 92.53471374511719\n",
            "Epoch 1, loss 329.47869873046875\n",
            "Epoch 2, loss 595.0638427734375\n",
            "Epoch 3, loss 166.96487426757812\n",
            "Epoch 4, loss 146.96929931640625\n",
            "Epoch 5, loss 130.37429809570312\n",
            "Epoch 6, loss 111.42737579345703\n",
            "Epoch 7, loss 90.13272094726562\n",
            "Epoch 8, loss 73.64562225341797\n",
            "Epoch 9, loss 67.3382339477539\n",
            "Epoch 10, loss 66.56302642822266\n",
            "Epoch 11, loss 66.47395324707031\n",
            "Epoch 12, loss 66.419189453125\n",
            "Epoch 13, loss 66.3797607421875\n",
            "Epoch 14, loss 66.35035705566406\n",
            "Epoch 15, loss 66.327880859375\n",
            "Epoch 16, loss 66.31004333496094\n",
            "Epoch 17, loss 66.29550170898438\n",
            "Epoch 18, loss 66.28321075439453\n",
            "Epoch 19, loss 66.27255249023438\n",
            "Epoch 20, loss 66.26313018798828\n",
            "Epoch 21, loss 66.25458526611328\n",
            "Epoch 22, loss 66.2468490600586\n",
            "Epoch 23, loss 66.23971557617188\n",
            "Epoch 24, loss 66.23310852050781\n",
            "Epoch 25, loss 66.22701263427734\n",
            "Epoch 26, loss 66.22124481201172\n",
            "Epoch 27, loss 66.21585083007812\n",
            "Epoch 28, loss 66.21078491210938\n",
            "Epoch 29, loss 66.20597839355469\n",
            "Epoch 30, loss 66.20146942138672\n",
            "Epoch 31, loss 66.1971664428711\n",
            "Epoch 32, loss 66.19310760498047\n",
            "Epoch 33, loss 66.18927001953125\n",
            "Epoch 34, loss 66.18565368652344\n",
            "Epoch 35, loss 66.18220520019531\n",
            "Epoch 36, loss 66.17891693115234\n",
            "Epoch 37, loss 66.17578125\n",
            "Epoch 38, loss 66.1728286743164\n",
            "Epoch 39, loss 66.17000579833984\n",
            "Epoch 40, loss 66.16729736328125\n",
            "Epoch 41, loss 66.16471862792969\n",
            "Epoch 42, loss 66.16226959228516\n",
            "Epoch 43, loss 66.15997314453125\n",
            "Epoch 44, loss 66.15773010253906\n",
            "Epoch 45, loss 66.15562438964844\n",
            "Epoch 46, loss 66.15359497070312\n",
            "Epoch 47, loss 66.15161895751953\n",
            "Epoch 48, loss 66.14978790283203\n",
            "Epoch 49, loss 66.14795684814453\n",
            "Epoch 50, loss 66.14623260498047\n",
            "Epoch 51, loss 66.14453887939453\n",
            "Epoch 52, loss 66.14288330078125\n",
            "Epoch 53, loss 66.14132690429688\n",
            "Epoch 54, loss 66.13980865478516\n",
            "Epoch 55, loss 66.13836669921875\n",
            "Epoch 56, loss 66.13691711425781\n",
            "Epoch 57, loss 66.13555145263672\n",
            "Epoch 58, loss 66.1342544555664\n",
            "Epoch 59, loss 66.13298034667969\n",
            "Epoch 60, loss 66.13172912597656\n",
            "Epoch 61, loss 66.13052368164062\n",
            "Epoch 62, loss 66.12934875488281\n",
            "Epoch 63, loss 66.12821960449219\n",
            "Epoch 64, loss 66.12716674804688\n",
            "Epoch 65, loss 66.1261215209961\n",
            "Epoch 66, loss 66.12509155273438\n",
            "Epoch 67, loss 66.12409210205078\n",
            "Epoch 68, loss 66.12313079833984\n",
            "Epoch 69, loss 66.12220764160156\n",
            "Epoch 70, loss 66.1213150024414\n",
            "Epoch 71, loss 66.12041473388672\n",
            "Epoch 72, loss 66.11959075927734\n",
            "Epoch 73, loss 66.11872863769531\n",
            "Epoch 74, loss 66.11792755126953\n",
            "Epoch 75, loss 66.11714935302734\n",
            "Epoch 76, loss 66.1163558959961\n",
            "Epoch 77, loss 66.1156005859375\n",
            "Epoch 78, loss 66.11485290527344\n",
            "Epoch 79, loss 66.11412811279297\n",
            "Epoch 80, loss 66.1134033203125\n",
            "Epoch 81, loss 66.11270904541016\n",
            "Epoch 82, loss 66.1120376586914\n",
            "Epoch 83, loss 66.1113510131836\n",
            "Epoch 84, loss 66.11067962646484\n",
            "Epoch 85, loss 66.11002349853516\n",
            "Epoch 86, loss 66.10943603515625\n",
            "Epoch 87, loss 66.1087875366211\n",
            "Epoch 88, loss 66.10816955566406\n",
            "Epoch 89, loss 66.10760498046875\n",
            "Epoch 90, loss 66.10701751708984\n",
            "Epoch 91, loss 66.10643005371094\n",
            "Epoch 92, loss 66.1058349609375\n",
            "Epoch 93, loss 66.10527801513672\n",
            "Epoch 94, loss 66.10472106933594\n",
            "Epoch 95, loss 66.10420989990234\n",
            "Epoch 96, loss 66.1036605834961\n",
            "Epoch 97, loss 66.1031494140625\n",
            "Epoch 98, loss 66.1026382446289\n",
            "Epoch 99, loss 66.10214233398438\n"
          ]
        }
      ]
    },
    {
      "cell_type": "code",
      "source": [
        "plt.figure(figsize=(8, 5))\n",
        "plt.plot(range(num_epochs), loss_, label='Loss')\n",
        "plt.legend()"
      ],
      "metadata": {
        "colab": {
          "base_uri": "https://localhost:8080/",
          "height": 338
        },
        "id": "jz-46Ha_HlFL",
        "outputId": "cc5d66fd-a8a4-4f1a-a39c-b4cdebc71fa2"
      },
      "execution_count": null,
      "outputs": [
        {
          "output_type": "execute_result",
          "data": {
            "text/plain": [
              "<matplotlib.legend.Legend at 0x7f5620018910>"
            ]
          },
          "metadata": {},
          "execution_count": 14
        },
        {
          "output_type": "display_data",
          "data": {
            "text/plain": [
              "<Figure size 576x360 with 1 Axes>"
            ],
            "image/png": "[encoded data removed]"
          },
          "metadata": {
            "needs_background": "light"
          }
        }
      ]
    },
    {
      "cell_type": "code",
      "source": [
        "#Using high-level API\n",
        "init, apply = stax.serial(stax.Dense(input_dim),\n",
        "                          stax.Relu,\n",
        "                          stax.Dense(hidden_dim),\n",
        "                          stax.Relu,\n",
        "                          stax.Dense(hidden_dim),\n",
        "                          stax.Relu,\n",
        "                          stax.Dense(output_dim),\n",
        "                          )"
      ],
      "metadata": {
        "id": "rkTVYZdSHsuk"
      },
      "execution_count": null,
      "outputs": []
    },
    {
      "cell_type": "code",
      "source": [
        "def mean_squared_error(weights, input, y_true):\n",
        "    y_pred = apply(weights, input).squeeze()\n",
        "    return jnp.power(y_true - y_pred, 2).mean()"
      ],
      "metadata": {
        "id": "fMg4qSXdHy-B"
      },
      "execution_count": null,
      "outputs": []
    },
    {
      "cell_type": "code",
      "source": [
        "# Training neural netwrok method and updating weights\n",
        "\n",
        "def train(x, y_true, num_epochs, opt_state):\n",
        "  loss_ = []\n",
        "\n",
        "  for epoch in range(num_epochs):\n",
        "    loss_value, gradients = value_and_grad(mean_squared_error)(optimizer_get_weights(opt_state), x, y_true)\n",
        "    opt_state = optimizer_update(epoch, gradients, opt_state)\n",
        "\n",
        "    loss_.append(loss_value)\n",
        "    print(f'Epoch {epoch}, loss {loss_value}')\n",
        "\n",
        "  return opt_state, loss_"
      ],
      "metadata": {
        "id": "8umm-bIlH3MJ"
      },
      "execution_count": null,
      "outputs": []
    },
    {
      "cell_type": "code",
      "source": [
        "# Initialize weights by passing input dimensions to init function \n",
        "\n",
        "weights = init(seed, (x.shape[1],))\n",
        "weights = weights[1]\n",
        "\n",
        "optimizer_init, optimizer_update, optimizer_get_weights = optimizers.sgd(learning_rate)\n",
        "optimizer_state = optimizer_init(weights)\n",
        "\n",
        "final_optimizer_state, loss_ = train(x, y_true, num_epochs, optimizer_state)"
      ],
      "metadata": {
        "colab": {
          "base_uri": "https://localhost:8080/"
        },
        "id": "rZ8pKBcsH90o",
        "outputId": "fa9af597-e919-4d69-eaf3-fce36be6cc0c"
      },
      "execution_count": null,
      "outputs": [
        {
          "output_type": "stream",
          "name": "stdout",
          "text": [
            "Epoch 0, loss 172.29136657714844\n",
            "Epoch 1, loss 164.39207458496094\n",
            "Epoch 2, loss 157.0961151123047\n",
            "Epoch 3, loss 148.2129364013672\n",
            "Epoch 4, loss 137.0707244873047\n",
            "Epoch 5, loss 122.83320617675781\n",
            "Epoch 6, loss 104.67330932617188\n",
            "Epoch 7, loss 84.77757263183594\n",
            "Epoch 8, loss 71.8614501953125\n",
            "Epoch 9, loss 69.57453155517578\n",
            "Epoch 10, loss 68.97486877441406\n",
            "Epoch 11, loss 68.4955062866211\n",
            "Epoch 12, loss 68.1067123413086\n",
            "Epoch 13, loss 67.7890396118164\n",
            "Epoch 14, loss 67.5272445678711\n",
            "Epoch 15, loss 67.31075286865234\n",
            "Epoch 16, loss 67.13096618652344\n",
            "Epoch 17, loss 66.98161315917969\n",
            "Epoch 18, loss 66.85694122314453\n",
            "Epoch 19, loss 66.75287628173828\n",
            "Epoch 20, loss 66.66473388671875\n",
            "Epoch 21, loss 66.59027862548828\n",
            "Epoch 22, loss 66.5269546508789\n",
            "Epoch 23, loss 66.47289276123047\n",
            "Epoch 24, loss 66.42647552490234\n",
            "Epoch 25, loss 66.38611602783203\n",
            "Epoch 26, loss 66.3511734008789\n",
            "Epoch 27, loss 66.32054138183594\n",
            "Epoch 28, loss 66.29378509521484\n",
            "Epoch 29, loss 66.27024841308594\n",
            "Epoch 30, loss 66.24947357177734\n",
            "Epoch 31, loss 66.23113250732422\n",
            "Epoch 32, loss 66.21488952636719\n",
            "Epoch 33, loss 66.20045471191406\n",
            "Epoch 34, loss 66.18756103515625\n",
            "Epoch 35, loss 66.17606353759766\n",
            "Epoch 36, loss 66.16573333740234\n",
            "Epoch 37, loss 66.15652465820312\n",
            "Epoch 38, loss 66.14827728271484\n",
            "Epoch 39, loss 66.14090728759766\n",
            "Epoch 40, loss 66.13420104980469\n",
            "Epoch 41, loss 66.12826538085938\n",
            "Epoch 42, loss 66.12284088134766\n",
            "Epoch 43, loss 66.11798095703125\n",
            "Epoch 44, loss 66.11363220214844\n",
            "Epoch 45, loss 66.10962677001953\n",
            "Epoch 46, loss 66.10601043701172\n",
            "Epoch 47, loss 66.10272216796875\n",
            "Epoch 48, loss 66.09968566894531\n",
            "Epoch 49, loss 66.09696197509766\n",
            "Epoch 50, loss 66.09447479248047\n",
            "Epoch 51, loss 66.09215545654297\n",
            "Epoch 52, loss 66.09004211425781\n",
            "Epoch 53, loss 66.088134765625\n",
            "Epoch 54, loss 66.08634948730469\n",
            "Epoch 55, loss 66.08470153808594\n",
            "Epoch 56, loss 66.08320617675781\n",
            "Epoch 57, loss 66.08177185058594\n",
            "Epoch 58, loss 66.08049774169922\n",
            "Epoch 59, loss 66.07928466796875\n",
            "Epoch 60, loss 66.07817840576172\n",
            "Epoch 61, loss 66.07713317871094\n",
            "Epoch 62, loss 66.07616424560547\n",
            "Epoch 63, loss 66.07524108886719\n",
            "Epoch 64, loss 66.07440185546875\n",
            "Epoch 65, loss 66.0736083984375\n",
            "Epoch 66, loss 66.07283782958984\n",
            "Epoch 67, loss 66.0721206665039\n",
            "Epoch 68, loss 66.07145690917969\n",
            "Epoch 69, loss 66.07083129882812\n",
            "Epoch 70, loss 66.07023620605469\n",
            "Epoch 71, loss 66.06969451904297\n",
            "Epoch 72, loss 66.06914520263672\n",
            "Epoch 73, loss 66.06863403320312\n",
            "Epoch 74, loss 66.06817626953125\n",
            "Epoch 75, loss 66.06771087646484\n",
            "Epoch 76, loss 66.06727600097656\n",
            "Epoch 77, loss 66.06686401367188\n",
            "Epoch 78, loss 66.06648254394531\n",
            "Epoch 79, loss 66.06611633300781\n",
            "Epoch 80, loss 66.06575775146484\n",
            "Epoch 81, loss 66.06541442871094\n",
            "Epoch 82, loss 66.06509399414062\n",
            "Epoch 83, loss 66.06478118896484\n",
            "Epoch 84, loss 66.064453125\n",
            "Epoch 85, loss 66.06419372558594\n",
            "Epoch 86, loss 66.06392669677734\n",
            "Epoch 87, loss 66.06368255615234\n",
            "Epoch 88, loss 66.06340026855469\n",
            "Epoch 89, loss 66.06315612792969\n",
            "Epoch 90, loss 66.06289672851562\n",
            "Epoch 91, loss 66.06268310546875\n",
            "Epoch 92, loss 66.06246185302734\n",
            "Epoch 93, loss 66.06224822998047\n",
            "Epoch 94, loss 66.06207275390625\n",
            "Epoch 95, loss 66.0618667602539\n",
            "Epoch 96, loss 66.0616683959961\n",
            "Epoch 97, loss 66.06146240234375\n",
            "Epoch 98, loss 66.0613021850586\n",
            "Epoch 99, loss 66.0611572265625\n"
          ]
        }
      ]
    },
    {
      "cell_type": "code",
      "source": [],
      "metadata": {
        "id": "WT8UrP33IBal"
      },
      "execution_count": null,
      "outputs": []
    },
    {
      "cell_type": "code",
      "source": [
        "plt.figure(figsize=(8, 5))\n",
        "plt.plot(range(num_epochs), loss_, label='Loss')\n",
        "plt.legend()"
      ],
      "metadata": {
        "colab": {
          "base_uri": "https://localhost:8080/",
          "height": 338
        },
        "id": "yVMO-4kLIDfn",
        "outputId": "6a65bda2-6eb9-4e1c-db3e-138c2f45a09f"
      },
      "execution_count": null,
      "outputs": [
        {
          "output_type": "execute_result",
          "data": {
            "text/plain": [
              "<matplotlib.legend.Legend at 0x7f5610cc7280>"
            ]
          },
          "metadata": {},
          "execution_count": 19
        },
        {
          "output_type": "display_data",
          "data": {
            "text/plain": [
              "<Figure size 576x360 with 1 Axes>"
            ],
            "image/png": "[encoded data removed]"
          },
          "metadata": {
            "needs_background": "light"
          }
        }
      ]
    }
  ]
}